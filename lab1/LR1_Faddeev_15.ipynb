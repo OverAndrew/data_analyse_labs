{
 "cells": [
  {
   "cell_type": "code",
   "execution_count": 339,
   "id": "db55d082-3f9f-4387-ae33-ac9d359d8177",
   "metadata": {},
   "outputs": [],
   "source": [
    "import pandas as pd"
   ]
  },
  {
   "cell_type": "markdown",
   "id": "a92ffa93-fb16-4fc2-9009-31a200b74942",
   "metadata": {},
   "source": [
    "### Загрузить датасет с помощью библиотеки pandas."
   ]
  },
  {
   "cell_type": "code",
   "execution_count": 342,
   "id": "ca855eaa-3c04-451d-9bef-b02524d70321",
   "metadata": {},
   "outputs": [],
   "source": [
    "df = pd.read_csv('credit_risk.csv')"
   ]
  },
  {
   "cell_type": "markdown",
   "id": "e216c1d4-f063-44a9-ba25-9d4fd844427f",
   "metadata": {},
   "source": [
    "Датасет был загружен с помощью использования библиотеки pandas и метода pf.read_csv() в переменную df."
   ]
  },
  {
   "cell_type": "markdown",
   "id": "95c55976-fb28-492b-8d7f-c5b9a9771a52",
   "metadata": {},
   "source": [
    "### Вывести первые 20 строк с помощью метода head."
   ]
  },
  {
   "cell_type": "code",
   "execution_count": 346,
   "id": "74a63a8f-85ce-4729-91a6-34eb27ed2ecd",
   "metadata": {},
   "outputs": [
    {
     "data": {
      "text/html": [
       "<div>\n",
       "<style scoped>\n",
       "    .dataframe tbody tr th:only-of-type {\n",
       "        vertical-align: middle;\n",
       "    }\n",
       "\n",
       "    .dataframe tbody tr th {\n",
       "        vertical-align: top;\n",
       "    }\n",
       "\n",
       "    .dataframe thead th {\n",
       "        text-align: right;\n",
       "    }\n",
       "</style>\n",
       "<table border=\"1\" class=\"dataframe\">\n",
       "  <thead>\n",
       "    <tr style=\"text-align: right;\">\n",
       "      <th></th>\n",
       "      <th>Id</th>\n",
       "      <th>Age</th>\n",
       "      <th>Income</th>\n",
       "      <th>Home</th>\n",
       "      <th>Emp_length</th>\n",
       "      <th>Intent</th>\n",
       "      <th>Amount</th>\n",
       "      <th>Rate</th>\n",
       "      <th>Status</th>\n",
       "      <th>Percent_income</th>\n",
       "      <th>Default</th>\n",
       "      <th>Cred_length</th>\n",
       "    </tr>\n",
       "  </thead>\n",
       "  <tbody>\n",
       "    <tr>\n",
       "      <th>0</th>\n",
       "      <td>0</td>\n",
       "      <td>22.0</td>\n",
       "      <td>59000</td>\n",
       "      <td>RENT</td>\n",
       "      <td>123.0</td>\n",
       "      <td>PERSONAL</td>\n",
       "      <td>35000</td>\n",
       "      <td>16.02</td>\n",
       "      <td>1</td>\n",
       "      <td>0.59</td>\n",
       "      <td>Y</td>\n",
       "      <td>3</td>\n",
       "    </tr>\n",
       "    <tr>\n",
       "      <th>1</th>\n",
       "      <td>1</td>\n",
       "      <td>21.0</td>\n",
       "      <td>9600</td>\n",
       "      <td>OWN</td>\n",
       "      <td>5.0</td>\n",
       "      <td>EDUCATION</td>\n",
       "      <td>1000</td>\n",
       "      <td>11.14</td>\n",
       "      <td>0</td>\n",
       "      <td>0.10</td>\n",
       "      <td>N</td>\n",
       "      <td>2</td>\n",
       "    </tr>\n",
       "    <tr>\n",
       "      <th>2</th>\n",
       "      <td>2</td>\n",
       "      <td>25.0</td>\n",
       "      <td>9600</td>\n",
       "      <td>MORTGAGE</td>\n",
       "      <td>1.0</td>\n",
       "      <td>MEDICAL</td>\n",
       "      <td>5500</td>\n",
       "      <td>12.87</td>\n",
       "      <td>1</td>\n",
       "      <td>0.57</td>\n",
       "      <td>N</td>\n",
       "      <td>3</td>\n",
       "    </tr>\n",
       "    <tr>\n",
       "      <th>3</th>\n",
       "      <td>3</td>\n",
       "      <td>23.0</td>\n",
       "      <td>65500</td>\n",
       "      <td>RENT</td>\n",
       "      <td>4.0</td>\n",
       "      <td>MEDICAL</td>\n",
       "      <td>35000</td>\n",
       "      <td>15.23</td>\n",
       "      <td>1</td>\n",
       "      <td>0.53</td>\n",
       "      <td>N</td>\n",
       "      <td>2</td>\n",
       "    </tr>\n",
       "    <tr>\n",
       "      <th>4</th>\n",
       "      <td>4</td>\n",
       "      <td>24.0</td>\n",
       "      <td>54400</td>\n",
       "      <td>RENT</td>\n",
       "      <td>8.0</td>\n",
       "      <td>MEDICAL</td>\n",
       "      <td>35000</td>\n",
       "      <td>14.27</td>\n",
       "      <td>1</td>\n",
       "      <td>0.55</td>\n",
       "      <td>Y</td>\n",
       "      <td>4</td>\n",
       "    </tr>\n",
       "    <tr>\n",
       "      <th>5</th>\n",
       "      <td>5</td>\n",
       "      <td>21.0</td>\n",
       "      <td>9900</td>\n",
       "      <td>OWN</td>\n",
       "      <td>2.0</td>\n",
       "      <td>VENTURE</td>\n",
       "      <td>2500</td>\n",
       "      <td>7.14</td>\n",
       "      <td>1</td>\n",
       "      <td>0.25</td>\n",
       "      <td>N</td>\n",
       "      <td>2</td>\n",
       "    </tr>\n",
       "    <tr>\n",
       "      <th>6</th>\n",
       "      <td>6</td>\n",
       "      <td>26.0</td>\n",
       "      <td>77100</td>\n",
       "      <td>RENET</td>\n",
       "      <td>8.0</td>\n",
       "      <td>EDUCATION</td>\n",
       "      <td>35000</td>\n",
       "      <td>12.42</td>\n",
       "      <td>1</td>\n",
       "      <td>0.45</td>\n",
       "      <td>N</td>\n",
       "      <td>3</td>\n",
       "    </tr>\n",
       "    <tr>\n",
       "      <th>7</th>\n",
       "      <td>7</td>\n",
       "      <td>24.0</td>\n",
       "      <td>78956</td>\n",
       "      <td>RENT</td>\n",
       "      <td>5.0</td>\n",
       "      <td>MEDICAL</td>\n",
       "      <td>35000</td>\n",
       "      <td>11.11</td>\n",
       "      <td>1</td>\n",
       "      <td>0.44</td>\n",
       "      <td>N</td>\n",
       "      <td>4</td>\n",
       "    </tr>\n",
       "    <tr>\n",
       "      <th>8</th>\n",
       "      <td>8</td>\n",
       "      <td>24.0</td>\n",
       "      <td>83000</td>\n",
       "      <td>RENT</td>\n",
       "      <td>8.0</td>\n",
       "      <td>PERSONAL</td>\n",
       "      <td>35000</td>\n",
       "      <td>8.90</td>\n",
       "      <td>1</td>\n",
       "      <td>0.42</td>\n",
       "      <td>N</td>\n",
       "      <td>2</td>\n",
       "    </tr>\n",
       "    <tr>\n",
       "      <th>9</th>\n",
       "      <td>9</td>\n",
       "      <td>21.0</td>\n",
       "      <td>10000</td>\n",
       "      <td>OWN</td>\n",
       "      <td>6.0</td>\n",
       "      <td>VENTURE</td>\n",
       "      <td>1600</td>\n",
       "      <td>14.74</td>\n",
       "      <td>1</td>\n",
       "      <td>0.16</td>\n",
       "      <td>N</td>\n",
       "      <td>3</td>\n",
       "    </tr>\n",
       "    <tr>\n",
       "      <th>10</th>\n",
       "      <td>10</td>\n",
       "      <td>22.0</td>\n",
       "      <td>85000</td>\n",
       "      <td>RENT</td>\n",
       "      <td>6.0</td>\n",
       "      <td>VENTURE</td>\n",
       "      <td>35000</td>\n",
       "      <td>10.37</td>\n",
       "      <td>1</td>\n",
       "      <td>0.41</td>\n",
       "      <td>N</td>\n",
       "      <td>4</td>\n",
       "    </tr>\n",
       "    <tr>\n",
       "      <th>11</th>\n",
       "      <td>11</td>\n",
       "      <td>21.0</td>\n",
       "      <td>10000</td>\n",
       "      <td>OWN</td>\n",
       "      <td>2.0</td>\n",
       "      <td>HOMEIMPROVEMENT</td>\n",
       "      <td>4500</td>\n",
       "      <td>8.63</td>\n",
       "      <td>1</td>\n",
       "      <td>0.45</td>\n",
       "      <td>N</td>\n",
       "      <td>2</td>\n",
       "    </tr>\n",
       "    <tr>\n",
       "      <th>12</th>\n",
       "      <td>12</td>\n",
       "      <td>23.0</td>\n",
       "      <td>95000</td>\n",
       "      <td>RENT</td>\n",
       "      <td>2.0</td>\n",
       "      <td>VENTURE</td>\n",
       "      <td>35000</td>\n",
       "      <td>7.90</td>\n",
       "      <td>1</td>\n",
       "      <td>0.37</td>\n",
       "      <td>N</td>\n",
       "      <td>2</td>\n",
       "    </tr>\n",
       "    <tr>\n",
       "      <th>13</th>\n",
       "      <td>13</td>\n",
       "      <td>26.0</td>\n",
       "      <td>108160</td>\n",
       "      <td>RENT</td>\n",
       "      <td>4.0</td>\n",
       "      <td>EDUCATION</td>\n",
       "      <td>35000</td>\n",
       "      <td>18.39</td>\n",
       "      <td>1</td>\n",
       "      <td>0.32</td>\n",
       "      <td>N</td>\n",
       "      <td>4</td>\n",
       "    </tr>\n",
       "    <tr>\n",
       "      <th>14</th>\n",
       "      <td>14</td>\n",
       "      <td>23.0</td>\n",
       "      <td>115000</td>\n",
       "      <td>RENT</td>\n",
       "      <td>2.0</td>\n",
       "      <td>EDUCATION</td>\n",
       "      <td>35000</td>\n",
       "      <td>7.90</td>\n",
       "      <td>0</td>\n",
       "      <td>0.30</td>\n",
       "      <td>N</td>\n",
       "      <td>4</td>\n",
       "    </tr>\n",
       "    <tr>\n",
       "      <th>15</th>\n",
       "      <td>15</td>\n",
       "      <td>23.0</td>\n",
       "      <td>500000</td>\n",
       "      <td>MORTGAGE</td>\n",
       "      <td>7.0</td>\n",
       "      <td>DEBTCONSOLIDATION</td>\n",
       "      <td>30000</td>\n",
       "      <td>10.65</td>\n",
       "      <td>0</td>\n",
       "      <td>0.06</td>\n",
       "      <td>N</td>\n",
       "      <td>3</td>\n",
       "    </tr>\n",
       "    <tr>\n",
       "      <th>16</th>\n",
       "      <td>16</td>\n",
       "      <td>23.0</td>\n",
       "      <td>120000</td>\n",
       "      <td>RENT</td>\n",
       "      <td>0.0</td>\n",
       "      <td>EDUCATION</td>\n",
       "      <td>35000</td>\n",
       "      <td>7.90</td>\n",
       "      <td>0</td>\n",
       "      <td>0.29</td>\n",
       "      <td>N</td>\n",
       "      <td>4</td>\n",
       "    </tr>\n",
       "    <tr>\n",
       "      <th>17</th>\n",
       "      <td>17</td>\n",
       "      <td>23.0</td>\n",
       "      <td>92111</td>\n",
       "      <td>RENT</td>\n",
       "      <td>7.0</td>\n",
       "      <td>MEDICAL</td>\n",
       "      <td>35000</td>\n",
       "      <td>20.25</td>\n",
       "      <td>1</td>\n",
       "      <td>0.32</td>\n",
       "      <td>N</td>\n",
       "      <td>4</td>\n",
       "    </tr>\n",
       "    <tr>\n",
       "      <th>18</th>\n",
       "      <td>18</td>\n",
       "      <td>23.0</td>\n",
       "      <td>113000</td>\n",
       "      <td>RENT</td>\n",
       "      <td>8.0</td>\n",
       "      <td>DEBTCONSOLIDATION</td>\n",
       "      <td>35000</td>\n",
       "      <td>18.25</td>\n",
       "      <td>1</td>\n",
       "      <td>0.31</td>\n",
       "      <td>N</td>\n",
       "      <td>4</td>\n",
       "    </tr>\n",
       "    <tr>\n",
       "      <th>19</th>\n",
       "      <td>19</td>\n",
       "      <td>24.0</td>\n",
       "      <td>10800</td>\n",
       "      <td>MORTGAGE</td>\n",
       "      <td>8.0</td>\n",
       "      <td>EDUCATION</td>\n",
       "      <td>1750</td>\n",
       "      <td>10.99</td>\n",
       "      <td>1</td>\n",
       "      <td>0.16</td>\n",
       "      <td>N</td>\n",
       "      <td>2</td>\n",
       "    </tr>\n",
       "  </tbody>\n",
       "</table>\n",
       "</div>"
      ],
      "text/plain": [
       "    Id   Age  Income      Home  Emp_length             Intent  Amount   Rate  \\\n",
       "0    0  22.0   59000      RENT       123.0           PERSONAL   35000  16.02   \n",
       "1    1  21.0    9600       OWN         5.0          EDUCATION    1000  11.14   \n",
       "2    2  25.0    9600  MORTGAGE         1.0            MEDICAL    5500  12.87   \n",
       "3    3  23.0   65500      RENT         4.0            MEDICAL   35000  15.23   \n",
       "4    4  24.0   54400      RENT         8.0            MEDICAL   35000  14.27   \n",
       "5    5  21.0    9900       OWN         2.0            VENTURE    2500   7.14   \n",
       "6    6  26.0   77100     RENET         8.0          EDUCATION   35000  12.42   \n",
       "7    7  24.0   78956      RENT         5.0            MEDICAL   35000  11.11   \n",
       "8    8  24.0   83000      RENT         8.0           PERSONAL   35000   8.90   \n",
       "9    9  21.0   10000       OWN         6.0            VENTURE    1600  14.74   \n",
       "10  10  22.0   85000      RENT         6.0            VENTURE   35000  10.37   \n",
       "11  11  21.0   10000       OWN         2.0    HOMEIMPROVEMENT    4500   8.63   \n",
       "12  12  23.0   95000      RENT         2.0            VENTURE   35000   7.90   \n",
       "13  13  26.0  108160      RENT         4.0          EDUCATION   35000  18.39   \n",
       "14  14  23.0  115000      RENT         2.0          EDUCATION   35000   7.90   \n",
       "15  15  23.0  500000  MORTGAGE         7.0  DEBTCONSOLIDATION   30000  10.65   \n",
       "16  16  23.0  120000      RENT         0.0          EDUCATION   35000   7.90   \n",
       "17  17  23.0   92111      RENT         7.0            MEDICAL   35000  20.25   \n",
       "18  18  23.0  113000      RENT         8.0  DEBTCONSOLIDATION   35000  18.25   \n",
       "19  19  24.0   10800  MORTGAGE         8.0          EDUCATION    1750  10.99   \n",
       "\n",
       "    Status  Percent_income Default  Cred_length  \n",
       "0        1            0.59       Y            3  \n",
       "1        0            0.10       N            2  \n",
       "2        1            0.57       N            3  \n",
       "3        1            0.53       N            2  \n",
       "4        1            0.55       Y            4  \n",
       "5        1            0.25       N            2  \n",
       "6        1            0.45       N            3  \n",
       "7        1            0.44       N            4  \n",
       "8        1            0.42       N            2  \n",
       "9        1            0.16       N            3  \n",
       "10       1            0.41       N            4  \n",
       "11       1            0.45       N            2  \n",
       "12       1            0.37       N            2  \n",
       "13       1            0.32       N            4  \n",
       "14       0            0.30       N            4  \n",
       "15       0            0.06       N            3  \n",
       "16       0            0.29       N            4  \n",
       "17       1            0.32       N            4  \n",
       "18       1            0.31       N            4  \n",
       "19       1            0.16       N            2  "
      ]
     },
     "execution_count": 346,
     "metadata": {},
     "output_type": "execute_result"
    }
   ],
   "source": [
    "df.head(20)"
   ]
  },
  {
   "cell_type": "markdown",
   "id": "3afe82ec-4a5e-418c-b988-6002f7bb578d",
   "metadata": {},
   "source": [
    "При помощи метода pandas head(), были выведены первые 20 строк датафрейма."
   ]
  },
  {
   "cell_type": "markdown",
   "id": "b903262e-3a02-48aa-9d94-24e2453f380e",
   "metadata": {},
   "source": [
    "### Выполнить обзор данных - описать столбцы и вашу предметную область.\n"
   ]
  },
  {
   "cell_type": "markdown",
   "id": "84e4a178-d149-4a1e-8542-9397ffa4c4eb",
   "metadata": {},
   "source": [
    "Данные содержат информацию о кредитных заявках:\n",
    "- возраст\n",
    "- доход\n",
    "- статус домовладения (Собственный, Ипотека, Аренда)\n",
    "- стаж работы в годах\n",
    "- цель кредита\n",
    "- сумма кредита по заявке\n",
    "- процентная ставка\n",
    "- статус одобрения кредита\n",
    "- сумма кредита в процентах от дохода\n",
    "- не допустил ли заявитель ранее дефолта по кредиту (да, нет)\n",
    "- длина кредитной истории заявителя"
   ]
  },
  {
   "cell_type": "markdown",
   "id": "9fcea77a-5bc1-4523-ae6f-8878e24a3e8b",
   "metadata": {},
   "source": [
    "### С помощью метода info оценить данные (есть ли пропуски, сколько всего строк, какие типы данных у столбцов).\n"
   ]
  },
  {
   "cell_type": "markdown",
   "id": "00499985-f1d3-4150-9e0b-acd0f99cbd8e",
   "metadata": {},
   "source": [
    "При применении метода info видны пропуски в признаках Emp_lenght и Rate, а также заметно, что тип данных у признака Age является вещественным, хотя все остальные числовые данные являются целочисленными. Всего 652 строк, типом данных у столбцов с текстовыми данными является object. "
   ]
  },
  {
   "cell_type": "code",
   "execution_count": 353,
   "id": "d4f34e6f-6166-465a-b2fb-99534991ced7",
   "metadata": {
    "scrolled": true
   },
   "outputs": [
    {
     "name": "stdout",
     "output_type": "stream",
     "text": [
      "<class 'pandas.core.frame.DataFrame'>\n",
      "RangeIndex: 652 entries, 0 to 651\n",
      "Data columns (total 12 columns):\n",
      " #   Column          Non-Null Count  Dtype  \n",
      "---  ------          --------------  -----  \n",
      " 0   Id              652 non-null    int64  \n",
      " 1   Age             652 non-null    float64\n",
      " 2   Income          652 non-null    int64  \n",
      " 3   Home            652 non-null    object \n",
      " 4   Emp_length      643 non-null    float64\n",
      " 5   Intent          652 non-null    object \n",
      " 6   Amount          652 non-null    int64  \n",
      " 7   Rate            586 non-null    float64\n",
      " 8   Status          652 non-null    int64  \n",
      " 9   Percent_income  652 non-null    float64\n",
      " 10  Default         652 non-null    object \n",
      " 11  Cred_length     652 non-null    int64  \n",
      "dtypes: float64(4), int64(5), object(3)\n",
      "memory usage: 61.3+ KB\n"
     ]
    }
   ],
   "source": [
    "df.info()"
   ]
  },
  {
   "cell_type": "markdown",
   "id": "512760e8-34d6-4e58-aeb3-6976a39c2171",
   "metadata": {},
   "source": [
    "Тип данных признака Age был заменён на целочисленный."
   ]
  },
  {
   "cell_type": "code",
   "execution_count": 356,
   "id": "fa43bc19-1687-4bbb-80e5-b951cea338ea",
   "metadata": {},
   "outputs": [],
   "source": [
    "df['Age'] = df['Age'].astype('int64')"
   ]
  },
  {
   "cell_type": "code",
   "execution_count": 358,
   "id": "8ec13f2d-fe3a-43b5-ac87-64b7d287e437",
   "metadata": {
    "scrolled": true
   },
   "outputs": [
    {
     "name": "stdout",
     "output_type": "stream",
     "text": [
      "<class 'pandas.core.frame.DataFrame'>\n",
      "RangeIndex: 652 entries, 0 to 651\n",
      "Data columns (total 12 columns):\n",
      " #   Column          Non-Null Count  Dtype  \n",
      "---  ------          --------------  -----  \n",
      " 0   Id              652 non-null    int64  \n",
      " 1   Age             652 non-null    int64  \n",
      " 2   Income          652 non-null    int64  \n",
      " 3   Home            652 non-null    object \n",
      " 4   Emp_length      643 non-null    float64\n",
      " 5   Intent          652 non-null    object \n",
      " 6   Amount          652 non-null    int64  \n",
      " 7   Rate            586 non-null    float64\n",
      " 8   Status          652 non-null    int64  \n",
      " 9   Percent_income  652 non-null    float64\n",
      " 10  Default         652 non-null    object \n",
      " 11  Cred_length     652 non-null    int64  \n",
      "dtypes: float64(3), int64(6), object(3)\n",
      "memory usage: 61.3+ KB\n"
     ]
    }
   ],
   "source": [
    "df.info()"
   ]
  },
  {
   "cell_type": "markdown",
   "id": "be8501bf-f45c-4093-88d5-af8b7bb15a82",
   "metadata": {},
   "source": [
    "### Применить describe . С помощью describe оценить числовые столбцы (если они есть)."
   ]
  },
  {
   "cell_type": "code",
   "execution_count": 361,
   "id": "78007a4d-a0d5-404c-b2ae-b46ca1a2b18f",
   "metadata": {},
   "outputs": [
    {
     "data": {
      "text/html": [
       "<div>\n",
       "<style scoped>\n",
       "    .dataframe tbody tr th:only-of-type {\n",
       "        vertical-align: middle;\n",
       "    }\n",
       "\n",
       "    .dataframe tbody tr th {\n",
       "        vertical-align: top;\n",
       "    }\n",
       "\n",
       "    .dataframe thead th {\n",
       "        text-align: right;\n",
       "    }\n",
       "</style>\n",
       "<table border=\"1\" class=\"dataframe\">\n",
       "  <thead>\n",
       "    <tr style=\"text-align: right;\">\n",
       "      <th></th>\n",
       "      <th>Id</th>\n",
       "      <th>Age</th>\n",
       "      <th>Income</th>\n",
       "      <th>Emp_length</th>\n",
       "      <th>Amount</th>\n",
       "      <th>Rate</th>\n",
       "      <th>Status</th>\n",
       "      <th>Percent_income</th>\n",
       "      <th>Cred_length</th>\n",
       "    </tr>\n",
       "  </thead>\n",
       "  <tbody>\n",
       "    <tr>\n",
       "      <th>count</th>\n",
       "      <td>652.000000</td>\n",
       "      <td>652.000000</td>\n",
       "      <td>652.000000</td>\n",
       "      <td>643.000000</td>\n",
       "      <td>652.000000</td>\n",
       "      <td>586.000000</td>\n",
       "      <td>652.000000</td>\n",
       "      <td>652.000000</td>\n",
       "      <td>652.000000</td>\n",
       "    </tr>\n",
       "    <tr>\n",
       "      <th>mean</th>\n",
       "      <td>325.495399</td>\n",
       "      <td>24.285276</td>\n",
       "      <td>90008.855828</td>\n",
       "      <td>4.601866</td>\n",
       "      <td>18800.996933</td>\n",
       "      <td>12.289471</td>\n",
       "      <td>0.601227</td>\n",
       "      <td>0.279831</td>\n",
       "      <td>3.012270</td>\n",
       "    </tr>\n",
       "    <tr>\n",
       "      <th>std</th>\n",
       "      <td>188.352535</td>\n",
       "      <td>7.841061</td>\n",
       "      <td>69530.312525</td>\n",
       "      <td>7.281616</td>\n",
       "      <td>9152.896250</td>\n",
       "      <td>3.272772</td>\n",
       "      <td>0.490022</td>\n",
       "      <td>0.150231</td>\n",
       "      <td>0.808843</td>\n",
       "    </tr>\n",
       "    <tr>\n",
       "      <th>min</th>\n",
       "      <td>0.000000</td>\n",
       "      <td>21.000000</td>\n",
       "      <td>9600.000000</td>\n",
       "      <td>0.000000</td>\n",
       "      <td>1000.000000</td>\n",
       "      <td>5.420000</td>\n",
       "      <td>0.000000</td>\n",
       "      <td>0.010000</td>\n",
       "      <td>2.000000</td>\n",
       "    </tr>\n",
       "    <tr>\n",
       "      <th>25%</th>\n",
       "      <td>162.750000</td>\n",
       "      <td>23.000000</td>\n",
       "      <td>44000.000000</td>\n",
       "      <td>2.000000</td>\n",
       "      <td>10000.000000</td>\n",
       "      <td>10.250000</td>\n",
       "      <td>0.000000</td>\n",
       "      <td>0.160000</td>\n",
       "      <td>2.000000</td>\n",
       "    </tr>\n",
       "    <tr>\n",
       "      <th>50%</th>\n",
       "      <td>325.500000</td>\n",
       "      <td>24.000000</td>\n",
       "      <td>69998.000000</td>\n",
       "      <td>4.000000</td>\n",
       "      <td>21850.000000</td>\n",
       "      <td>12.180000</td>\n",
       "      <td>1.000000</td>\n",
       "      <td>0.280000</td>\n",
       "      <td>3.000000</td>\n",
       "    </tr>\n",
       "    <tr>\n",
       "      <th>75%</th>\n",
       "      <td>488.250000</td>\n",
       "      <td>25.000000</td>\n",
       "      <td>128499.000000</td>\n",
       "      <td>7.000000</td>\n",
       "      <td>25000.000000</td>\n",
       "      <td>14.720000</td>\n",
       "      <td>1.000000</td>\n",
       "      <td>0.380000</td>\n",
       "      <td>4.000000</td>\n",
       "    </tr>\n",
       "    <tr>\n",
       "      <th>max</th>\n",
       "      <td>649.000000</td>\n",
       "      <td>144.000000</td>\n",
       "      <td>500000.000000</td>\n",
       "      <td>123.000000</td>\n",
       "      <td>35000.000000</td>\n",
       "      <td>21.210000</td>\n",
       "      <td>1.000000</td>\n",
       "      <td>0.830000</td>\n",
       "      <td>4.000000</td>\n",
       "    </tr>\n",
       "  </tbody>\n",
       "</table>\n",
       "</div>"
      ],
      "text/plain": [
       "               Id         Age         Income  Emp_length        Amount  \\\n",
       "count  652.000000  652.000000     652.000000  643.000000    652.000000   \n",
       "mean   325.495399   24.285276   90008.855828    4.601866  18800.996933   \n",
       "std    188.352535    7.841061   69530.312525    7.281616   9152.896250   \n",
       "min      0.000000   21.000000    9600.000000    0.000000   1000.000000   \n",
       "25%    162.750000   23.000000   44000.000000    2.000000  10000.000000   \n",
       "50%    325.500000   24.000000   69998.000000    4.000000  21850.000000   \n",
       "75%    488.250000   25.000000  128499.000000    7.000000  25000.000000   \n",
       "max    649.000000  144.000000  500000.000000  123.000000  35000.000000   \n",
       "\n",
       "             Rate      Status  Percent_income  Cred_length  \n",
       "count  586.000000  652.000000      652.000000   652.000000  \n",
       "mean    12.289471    0.601227        0.279831     3.012270  \n",
       "std      3.272772    0.490022        0.150231     0.808843  \n",
       "min      5.420000    0.000000        0.010000     2.000000  \n",
       "25%     10.250000    0.000000        0.160000     2.000000  \n",
       "50%     12.180000    1.000000        0.280000     3.000000  \n",
       "75%     14.720000    1.000000        0.380000     4.000000  \n",
       "max     21.210000    1.000000        0.830000     4.000000  "
      ]
     },
     "execution_count": 361,
     "metadata": {},
     "output_type": "execute_result"
    }
   ],
   "source": [
    "df.describe()"
   ]
  },
  {
   "cell_type": "markdown",
   "id": "548cff2a-8419-49b6-a4a7-755515127cf6",
   "metadata": {},
   "source": [
    "При применении метода describe видно, что значения всех числовых столбцов являются нормальными, тут описано количество числовых записей, среднее значение, стандартное отклонение, минимальное значение, квартили и максимальное значение. Можно заметить аномалию в признаке Age, а именно то, что максимальный возраст равен 144, а медианное значение, а также квартили показывают, что возраст людей в основном находится в диапазоне 24 лет. Проверим последние значения по данному признаку."
   ]
  },
  {
   "cell_type": "code",
   "execution_count": 364,
   "id": "5b7427c6-580c-4ef9-9760-fc1214ff2763",
   "metadata": {
    "scrolled": true
   },
   "outputs": [
    {
     "data": {
      "text/html": [
       "<div>\n",
       "<style scoped>\n",
       "    .dataframe tbody tr th:only-of-type {\n",
       "        vertical-align: middle;\n",
       "    }\n",
       "\n",
       "    .dataframe tbody tr th {\n",
       "        vertical-align: top;\n",
       "    }\n",
       "\n",
       "    .dataframe thead th {\n",
       "        text-align: right;\n",
       "    }\n",
       "</style>\n",
       "<table border=\"1\" class=\"dataframe\">\n",
       "  <thead>\n",
       "    <tr style=\"text-align: right;\">\n",
       "      <th></th>\n",
       "      <th>Id</th>\n",
       "      <th>Age</th>\n",
       "      <th>Income</th>\n",
       "      <th>Home</th>\n",
       "      <th>Emp_length</th>\n",
       "      <th>Intent</th>\n",
       "      <th>Amount</th>\n",
       "      <th>Rate</th>\n",
       "      <th>Status</th>\n",
       "      <th>Percent_income</th>\n",
       "      <th>Default</th>\n",
       "      <th>Cred_length</th>\n",
       "    </tr>\n",
       "  </thead>\n",
       "  <tbody>\n",
       "    <tr>\n",
       "      <th>81</th>\n",
       "      <td>81</td>\n",
       "      <td>144</td>\n",
       "      <td>250000</td>\n",
       "      <td>RENT</td>\n",
       "      <td>4.0</td>\n",
       "      <td>VENTURE</td>\n",
       "      <td>4800</td>\n",
       "      <td>13.57</td>\n",
       "      <td>0</td>\n",
       "      <td>0.02</td>\n",
       "      <td>N</td>\n",
       "      <td>3</td>\n",
       "    </tr>\n",
       "    <tr>\n",
       "      <th>183</th>\n",
       "      <td>183</td>\n",
       "      <td>144</td>\n",
       "      <td>200000</td>\n",
       "      <td>MORTGAGE</td>\n",
       "      <td>4.0</td>\n",
       "      <td>EDUCATION</td>\n",
       "      <td>6000</td>\n",
       "      <td>11.86</td>\n",
       "      <td>0</td>\n",
       "      <td>0.03</td>\n",
       "      <td>N</td>\n",
       "      <td>2</td>\n",
       "    </tr>\n",
       "    <tr>\n",
       "      <th>575</th>\n",
       "      <td>575</td>\n",
       "      <td>123</td>\n",
       "      <td>80004</td>\n",
       "      <td>RENT</td>\n",
       "      <td>2.0</td>\n",
       "      <td>EDUCATION</td>\n",
       "      <td>20400</td>\n",
       "      <td>10.25</td>\n",
       "      <td>0</td>\n",
       "      <td>0.25</td>\n",
       "      <td>N</td>\n",
       "      <td>3</td>\n",
       "    </tr>\n",
       "    <tr>\n",
       "      <th>550</th>\n",
       "      <td>550</td>\n",
       "      <td>26</td>\n",
       "      <td>19200</td>\n",
       "      <td>MORTGAGE</td>\n",
       "      <td>5.0</td>\n",
       "      <td>VENTURE</td>\n",
       "      <td>4000</td>\n",
       "      <td>7.51</td>\n",
       "      <td>1</td>\n",
       "      <td>0.21</td>\n",
       "      <td>N</td>\n",
       "      <td>4</td>\n",
       "    </tr>\n",
       "    <tr>\n",
       "      <th>563</th>\n",
       "      <td>563</td>\n",
       "      <td>26</td>\n",
       "      <td>97000</td>\n",
       "      <td>RENT</td>\n",
       "      <td>1.0</td>\n",
       "      <td>EDUCATION</td>\n",
       "      <td>21000</td>\n",
       "      <td>7.90</td>\n",
       "      <td>0</td>\n",
       "      <td>0.22</td>\n",
       "      <td>N</td>\n",
       "      <td>3</td>\n",
       "    </tr>\n",
       "    <tr>\n",
       "      <th>...</th>\n",
       "      <td>...</td>\n",
       "      <td>...</td>\n",
       "      <td>...</td>\n",
       "      <td>...</td>\n",
       "      <td>...</td>\n",
       "      <td>...</td>\n",
       "      <td>...</td>\n",
       "      <td>...</td>\n",
       "      <td>...</td>\n",
       "      <td>...</td>\n",
       "      <td>...</td>\n",
       "      <td>...</td>\n",
       "    </tr>\n",
       "    <tr>\n",
       "      <th>60</th>\n",
       "      <td>60</td>\n",
       "      <td>21</td>\n",
       "      <td>131000</td>\n",
       "      <td>RENT</td>\n",
       "      <td>0.0</td>\n",
       "      <td>VENTURE</td>\n",
       "      <td>30000</td>\n",
       "      <td>5.99</td>\n",
       "      <td>0</td>\n",
       "      <td>0.23</td>\n",
       "      <td>N</td>\n",
       "      <td>4</td>\n",
       "    </tr>\n",
       "    <tr>\n",
       "      <th>350</th>\n",
       "      <td>350</td>\n",
       "      <td>21</td>\n",
       "      <td>165000</td>\n",
       "      <td>MORTGAGE</td>\n",
       "      <td>5.0</td>\n",
       "      <td>EDUCATION</td>\n",
       "      <td>20000</td>\n",
       "      <td>6.91</td>\n",
       "      <td>0</td>\n",
       "      <td>0.12</td>\n",
       "      <td>N</td>\n",
       "      <td>4</td>\n",
       "    </tr>\n",
       "    <tr>\n",
       "      <th>590</th>\n",
       "      <td>590</td>\n",
       "      <td>21</td>\n",
       "      <td>36000</td>\n",
       "      <td>RENT</td>\n",
       "      <td>5.0</td>\n",
       "      <td>MEDICAL</td>\n",
       "      <td>20000</td>\n",
       "      <td>NaN</td>\n",
       "      <td>1</td>\n",
       "      <td>0.56</td>\n",
       "      <td>Y</td>\n",
       "      <td>2</td>\n",
       "    </tr>\n",
       "    <tr>\n",
       "      <th>571</th>\n",
       "      <td>571</td>\n",
       "      <td>21</td>\n",
       "      <td>19500</td>\n",
       "      <td>MORTGAGE</td>\n",
       "      <td>0.0</td>\n",
       "      <td>EDUCATION</td>\n",
       "      <td>15000</td>\n",
       "      <td>9.64</td>\n",
       "      <td>1</td>\n",
       "      <td>0.77</td>\n",
       "      <td>N</td>\n",
       "      <td>2</td>\n",
       "    </tr>\n",
       "    <tr>\n",
       "      <th>167</th>\n",
       "      <td>167</td>\n",
       "      <td>21</td>\n",
       "      <td>200000</td>\n",
       "      <td>MORTGAGE</td>\n",
       "      <td>5.0</td>\n",
       "      <td>EDUCATION</td>\n",
       "      <td>16000</td>\n",
       "      <td>14.65</td>\n",
       "      <td>0</td>\n",
       "      <td>0.08</td>\n",
       "      <td>N</td>\n",
       "      <td>4</td>\n",
       "    </tr>\n",
       "  </tbody>\n",
       "</table>\n",
       "<p>652 rows × 12 columns</p>\n",
       "</div>"
      ],
      "text/plain": [
       "      Id  Age  Income      Home  Emp_length     Intent  Amount   Rate  Status  \\\n",
       "81    81  144  250000      RENT         4.0    VENTURE    4800  13.57       0   \n",
       "183  183  144  200000  MORTGAGE         4.0  EDUCATION    6000  11.86       0   \n",
       "575  575  123   80004      RENT         2.0  EDUCATION   20400  10.25       0   \n",
       "550  550   26   19200  MORTGAGE         5.0    VENTURE    4000   7.51       1   \n",
       "563  563   26   97000      RENT         1.0  EDUCATION   21000   7.90       0   \n",
       "..   ...  ...     ...       ...         ...        ...     ...    ...     ...   \n",
       "60    60   21  131000      RENT         0.0    VENTURE   30000   5.99       0   \n",
       "350  350   21  165000  MORTGAGE         5.0  EDUCATION   20000   6.91       0   \n",
       "590  590   21   36000      RENT         5.0    MEDICAL   20000    NaN       1   \n",
       "571  571   21   19500  MORTGAGE         0.0  EDUCATION   15000   9.64       1   \n",
       "167  167   21  200000  MORTGAGE         5.0  EDUCATION   16000  14.65       0   \n",
       "\n",
       "     Percent_income Default  Cred_length  \n",
       "81             0.02       N            3  \n",
       "183            0.03       N            2  \n",
       "575            0.25       N            3  \n",
       "550            0.21       N            4  \n",
       "563            0.22       N            3  \n",
       "..              ...     ...          ...  \n",
       "60             0.23       N            4  \n",
       "350            0.12       N            4  \n",
       "590            0.56       Y            2  \n",
       "571            0.77       N            2  \n",
       "167            0.08       N            4  \n",
       "\n",
       "[652 rows x 12 columns]"
      ]
     },
     "execution_count": 364,
     "metadata": {},
     "output_type": "execute_result"
    }
   ],
   "source": [
    "df.sort_values(by = 'Age', ascending= False)"
   ]
  },
  {
   "cell_type": "markdown",
   "id": "43f3c878-ccd3-4055-9453-acd0f9592030",
   "metadata": {},
   "source": [
    "Заметно, что возраст людей в первых 3 полях является выбросом. Так как 3 поля в сравнении с размером датасета является незначительным, можно принять решение об их удалении."
   ]
  },
  {
   "cell_type": "code",
   "execution_count": 367,
   "id": "fc065de6-f368-457f-8429-166168bb3a3f",
   "metadata": {},
   "outputs": [],
   "source": [
    "df = df[df['Age']< 100]"
   ]
  },
  {
   "cell_type": "markdown",
   "id": "1695b7f1-4c09-4b59-852b-44287eaed1e2",
   "metadata": {},
   "source": [
    "### Вывести на экран названия столбцов с помощью df.columns. Выявить проблемы с названиями, если они есть. При необходимости переименовать столбцы. Если проблемы не обнаружены также дать пояснения."
   ]
  },
  {
   "cell_type": "code",
   "execution_count": 370,
   "id": "9abe4520-9f6f-4e66-8d47-fd11cfa9f7e7",
   "metadata": {
    "scrolled": true
   },
   "outputs": [
    {
     "data": {
      "text/plain": [
       "Index(['Id', 'Age', 'Income', 'Home', 'Emp_length', 'Intent', 'Amount', 'Rate',\n",
       "       'Status', 'Percent_income', 'Default', 'Cred_length'],\n",
       "      dtype='object')"
      ]
     },
     "execution_count": 370,
     "metadata": {},
     "output_type": "execute_result"
    }
   ],
   "source": [
    "df.columns"
   ]
  },
  {
   "cell_type": "markdown",
   "id": "80da3ced-f650-4fa8-bbc2-15a7d17ea143",
   "metadata": {},
   "source": [
    "Проблем с названиями столбцов нет, все признаки соотвествуют описанию."
   ]
  },
  {
   "cell_type": "markdown",
   "id": "4f1c7408-b980-417f-aa22-651462db382b",
   "metadata": {},
   "source": [
    "### Проверить данные на наличие пропусков и устранить их, если они есть (пропуски необходимо либо удалить, либо заменить каким-то значением)."
   ]
  },
  {
   "cell_type": "markdown",
   "id": "f8dcca0c-eec0-4bd6-b095-b2fea51f71a2",
   "metadata": {},
   "source": [
    "Из предыдущих ячеек были замечены пропуски в признаках Rate и Emp-lenght. Далее будут отображены строки, в которых, в признаке Rate содержатся пустые значения."
   ]
  },
  {
   "cell_type": "code",
   "execution_count": 375,
   "id": "baa6b4fb-06c2-4337-9407-add84da8bf30",
   "metadata": {},
   "outputs": [
    {
     "data": {
      "text/html": [
       "<div>\n",
       "<style scoped>\n",
       "    .dataframe tbody tr th:only-of-type {\n",
       "        vertical-align: middle;\n",
       "    }\n",
       "\n",
       "    .dataframe tbody tr th {\n",
       "        vertical-align: top;\n",
       "    }\n",
       "\n",
       "    .dataframe thead th {\n",
       "        text-align: right;\n",
       "    }\n",
       "</style>\n",
       "<table border=\"1\" class=\"dataframe\">\n",
       "  <thead>\n",
       "    <tr style=\"text-align: right;\">\n",
       "      <th></th>\n",
       "      <th>Id</th>\n",
       "      <th>Age</th>\n",
       "      <th>Income</th>\n",
       "      <th>Home</th>\n",
       "      <th>Emp_length</th>\n",
       "      <th>Intent</th>\n",
       "      <th>Amount</th>\n",
       "      <th>Rate</th>\n",
       "      <th>Status</th>\n",
       "      <th>Percent_income</th>\n",
       "      <th>Default</th>\n",
       "      <th>Cred_length</th>\n",
       "    </tr>\n",
       "  </thead>\n",
       "  <tbody>\n",
       "    <tr>\n",
       "      <th>39</th>\n",
       "      <td>39</td>\n",
       "      <td>23</td>\n",
       "      <td>71500</td>\n",
       "      <td>RENT</td>\n",
       "      <td>3.0</td>\n",
       "      <td>DEBTCONSOLIDATION</td>\n",
       "      <td>30000</td>\n",
       "      <td>NaN</td>\n",
       "      <td>1</td>\n",
       "      <td>0.42</td>\n",
       "      <td>N</td>\n",
       "      <td>4</td>\n",
       "    </tr>\n",
       "    <tr>\n",
       "      <th>50</th>\n",
       "      <td>50</td>\n",
       "      <td>24</td>\n",
       "      <td>78000</td>\n",
       "      <td>RENT</td>\n",
       "      <td>4.0</td>\n",
       "      <td>DEBTCONSOLIDATION</td>\n",
       "      <td>30000</td>\n",
       "      <td>NaN</td>\n",
       "      <td>1</td>\n",
       "      <td>0.38</td>\n",
       "      <td>Y</td>\n",
       "      <td>4</td>\n",
       "    </tr>\n",
       "    <tr>\n",
       "      <th>57</th>\n",
       "      <td>57</td>\n",
       "      <td>23</td>\n",
       "      <td>277000</td>\n",
       "      <td>OWN</td>\n",
       "      <td>3.0</td>\n",
       "      <td>PERSONAL</td>\n",
       "      <td>35000</td>\n",
       "      <td>NaN</td>\n",
       "      <td>0</td>\n",
       "      <td>0.13</td>\n",
       "      <td>N</td>\n",
       "      <td>4</td>\n",
       "    </tr>\n",
       "    <tr>\n",
       "      <th>59</th>\n",
       "      <td>59</td>\n",
       "      <td>24</td>\n",
       "      <td>12000</td>\n",
       "      <td>OWN</td>\n",
       "      <td>2.0</td>\n",
       "      <td>VENTURE</td>\n",
       "      <td>1750</td>\n",
       "      <td>NaN</td>\n",
       "      <td>0</td>\n",
       "      <td>0.15</td>\n",
       "      <td>Y</td>\n",
       "      <td>3</td>\n",
       "    </tr>\n",
       "    <tr>\n",
       "      <th>62</th>\n",
       "      <td>62</td>\n",
       "      <td>26</td>\n",
       "      <td>263000</td>\n",
       "      <td>MORTGAGE</td>\n",
       "      <td>0.0</td>\n",
       "      <td>EDUCATION</td>\n",
       "      <td>10000</td>\n",
       "      <td>NaN</td>\n",
       "      <td>1</td>\n",
       "      <td>0.04</td>\n",
       "      <td>N</td>\n",
       "      <td>4</td>\n",
       "    </tr>\n",
       "    <tr>\n",
       "      <th>...</th>\n",
       "      <td>...</td>\n",
       "      <td>...</td>\n",
       "      <td>...</td>\n",
       "      <td>...</td>\n",
       "      <td>...</td>\n",
       "      <td>...</td>\n",
       "      <td>...</td>\n",
       "      <td>...</td>\n",
       "      <td>...</td>\n",
       "      <td>...</td>\n",
       "      <td>...</td>\n",
       "      <td>...</td>\n",
       "    </tr>\n",
       "    <tr>\n",
       "      <th>600</th>\n",
       "      <td>600</td>\n",
       "      <td>24</td>\n",
       "      <td>45000</td>\n",
       "      <td>RENT</td>\n",
       "      <td>8.0</td>\n",
       "      <td>MEDICAL</td>\n",
       "      <td>20000</td>\n",
       "      <td>NaN</td>\n",
       "      <td>1</td>\n",
       "      <td>0.44</td>\n",
       "      <td>N</td>\n",
       "      <td>2</td>\n",
       "    </tr>\n",
       "    <tr>\n",
       "      <th>616</th>\n",
       "      <td>616</td>\n",
       "      <td>24</td>\n",
       "      <td>50866</td>\n",
       "      <td>RENT</td>\n",
       "      <td>6.0</td>\n",
       "      <td>MEDICAL</td>\n",
       "      <td>20000</td>\n",
       "      <td>NaN</td>\n",
       "      <td>1</td>\n",
       "      <td>0.39</td>\n",
       "      <td>N</td>\n",
       "      <td>3</td>\n",
       "    </tr>\n",
       "    <tr>\n",
       "      <th>628</th>\n",
       "      <td>628</td>\n",
       "      <td>24</td>\n",
       "      <td>52559</td>\n",
       "      <td>RENT</td>\n",
       "      <td>9.0</td>\n",
       "      <td>HOMEIMPROVEMENT</td>\n",
       "      <td>20000</td>\n",
       "      <td>NaN</td>\n",
       "      <td>1</td>\n",
       "      <td>0.38</td>\n",
       "      <td>N</td>\n",
       "      <td>3</td>\n",
       "    </tr>\n",
       "    <tr>\n",
       "      <th>642</th>\n",
       "      <td>642</td>\n",
       "      <td>25</td>\n",
       "      <td>55200</td>\n",
       "      <td>RENT</td>\n",
       "      <td>7.0</td>\n",
       "      <td>VENTURE</td>\n",
       "      <td>20000</td>\n",
       "      <td>NaN</td>\n",
       "      <td>1</td>\n",
       "      <td>0.36</td>\n",
       "      <td>N</td>\n",
       "      <td>4</td>\n",
       "    </tr>\n",
       "    <tr>\n",
       "      <th>647</th>\n",
       "      <td>647</td>\n",
       "      <td>26</td>\n",
       "      <td>20004</td>\n",
       "      <td>MORTGAGE</td>\n",
       "      <td>4.0</td>\n",
       "      <td>HOMEIMPROVEMENT</td>\n",
       "      <td>3600</td>\n",
       "      <td>NaN</td>\n",
       "      <td>0</td>\n",
       "      <td>0.18</td>\n",
       "      <td>N</td>\n",
       "      <td>2</td>\n",
       "    </tr>\n",
       "  </tbody>\n",
       "</table>\n",
       "<p>66 rows × 12 columns</p>\n",
       "</div>"
      ],
      "text/plain": [
       "      Id  Age  Income      Home  Emp_length             Intent  Amount  Rate  \\\n",
       "39    39   23   71500      RENT         3.0  DEBTCONSOLIDATION   30000   NaN   \n",
       "50    50   24   78000      RENT         4.0  DEBTCONSOLIDATION   30000   NaN   \n",
       "57    57   23  277000       OWN         3.0           PERSONAL   35000   NaN   \n",
       "59    59   24   12000       OWN         2.0            VENTURE    1750   NaN   \n",
       "62    62   26  263000  MORTGAGE         0.0          EDUCATION   10000   NaN   \n",
       "..   ...  ...     ...       ...         ...                ...     ...   ...   \n",
       "600  600   24   45000      RENT         8.0            MEDICAL   20000   NaN   \n",
       "616  616   24   50866      RENT         6.0            MEDICAL   20000   NaN   \n",
       "628  628   24   52559      RENT         9.0    HOMEIMPROVEMENT   20000   NaN   \n",
       "642  642   25   55200      RENT         7.0            VENTURE   20000   NaN   \n",
       "647  647   26   20004  MORTGAGE         4.0    HOMEIMPROVEMENT    3600   NaN   \n",
       "\n",
       "     Status  Percent_income Default  Cred_length  \n",
       "39        1            0.42       N            4  \n",
       "50        1            0.38       Y            4  \n",
       "57        0            0.13       N            4  \n",
       "59        0            0.15       Y            3  \n",
       "62        1            0.04       N            4  \n",
       "..      ...             ...     ...          ...  \n",
       "600       1            0.44       N            2  \n",
       "616       1            0.39       N            3  \n",
       "628       1            0.38       N            3  \n",
       "642       1            0.36       N            4  \n",
       "647       0            0.18       N            2  \n",
       "\n",
       "[66 rows x 12 columns]"
      ]
     },
     "execution_count": 375,
     "metadata": {},
     "output_type": "execute_result"
    }
   ],
   "source": [
    "df[df['Rate'].isnull()]"
   ]
  },
  {
   "cell_type": "markdown",
   "id": "6e946e11-83c3-446a-b6b1-3ac7e2924d9b",
   "metadata": {},
   "source": [
    "Данных с пропущенными значениями довольно много, поэтому удалять их не стоит, так как есть риск потерять большую часть данных. В результате выполнения метода describe можно заметить, что минимальное значение не равняется нулю. Так как медиана является является устойчивой к выбросам и в данном датасете примерно является средним значением, то можно заменить все пропуски на нее (медиану)."
   ]
  },
  {
   "cell_type": "code",
   "execution_count": 378,
   "id": "525820fe-62a2-43e1-b051-7cf8e6156be4",
   "metadata": {},
   "outputs": [
    {
     "name": "stdout",
     "output_type": "stream",
     "text": [
      "Среднее Rate: 12.291509433962263 \n",
      "Медиана Rate: 12.18\n",
      "Среднее Emp_lenght: 4.6078125 \n",
      "Медиана Emp_lenght: 4.0\n"
     ]
    }
   ],
   "source": [
    "print('Среднее Rate:', df['Rate'].mean(),'\\nМедиана Rate:', df['Rate'].median())\n",
    "print('Среднее Emp_lenght:', df['Emp_length'].mean(),'\\nМедиана Emp_lenght:', df['Emp_length'].median())"
   ]
  },
  {
   "cell_type": "code",
   "execution_count": 380,
   "id": "57617109-a3c3-4af1-84e2-dbb14bf544c4",
   "metadata": {},
   "outputs": [],
   "source": [
    "df['Rate'] = df['Rate'].fillna(value = df['Rate'].median())"
   ]
  },
  {
   "cell_type": "code",
   "execution_count": 382,
   "id": "5ba2a078-8708-4345-81c1-a8cfedb0f168",
   "metadata": {},
   "outputs": [],
   "source": [
    "df['Emp_length'] = df['Emp_length'].fillna(value = df['Emp_length'].median())"
   ]
  },
  {
   "cell_type": "code",
   "execution_count": 384,
   "id": "1bbe31df-fe6c-4101-a873-30d6d4979cf9",
   "metadata": {
    "scrolled": true
   },
   "outputs": [
    {
     "name": "stdout",
     "output_type": "stream",
     "text": [
      "<class 'pandas.core.frame.DataFrame'>\n",
      "Index: 649 entries, 0 to 651\n",
      "Data columns (total 12 columns):\n",
      " #   Column          Non-Null Count  Dtype  \n",
      "---  ------          --------------  -----  \n",
      " 0   Id              649 non-null    int64  \n",
      " 1   Age             649 non-null    int64  \n",
      " 2   Income          649 non-null    int64  \n",
      " 3   Home            649 non-null    object \n",
      " 4   Emp_length      649 non-null    float64\n",
      " 5   Intent          649 non-null    object \n",
      " 6   Amount          649 non-null    int64  \n",
      " 7   Rate            649 non-null    float64\n",
      " 8   Status          649 non-null    int64  \n",
      " 9   Percent_income  649 non-null    float64\n",
      " 10  Default         649 non-null    object \n",
      " 11  Cred_length     649 non-null    int64  \n",
      "dtypes: float64(3), int64(6), object(3)\n",
      "memory usage: 65.9+ KB\n"
     ]
    }
   ],
   "source": [
    "df.info()"
   ]
  },
  {
   "cell_type": "markdown",
   "id": "88ab0175-e760-40a1-9fd8-f1a4410153d3",
   "metadata": {},
   "source": [
    "Все пропуски заполнены, датасет подготовлен для дальнейшей работы."
   ]
  },
  {
   "cell_type": "markdown",
   "id": "0c01b592-4e79-40cf-b98a-b570831827ae",
   "metadata": {
    "scrolled": true
   },
   "source": [
    "### Проверьте данные на наличие явных и неявных дубликатов. Удалите дубликаты, если они есть."
   ]
  },
  {
   "cell_type": "code",
   "execution_count": 388,
   "id": "9ff72933-895a-474a-8283-552ccff44203",
   "metadata": {},
   "outputs": [
    {
     "data": {
      "text/html": [
       "<div>\n",
       "<style scoped>\n",
       "    .dataframe tbody tr th:only-of-type {\n",
       "        vertical-align: middle;\n",
       "    }\n",
       "\n",
       "    .dataframe tbody tr th {\n",
       "        vertical-align: top;\n",
       "    }\n",
       "\n",
       "    .dataframe thead th {\n",
       "        text-align: right;\n",
       "    }\n",
       "</style>\n",
       "<table border=\"1\" class=\"dataframe\">\n",
       "  <thead>\n",
       "    <tr style=\"text-align: right;\">\n",
       "      <th></th>\n",
       "      <th>Id</th>\n",
       "      <th>Age</th>\n",
       "      <th>Income</th>\n",
       "      <th>Home</th>\n",
       "      <th>Emp_length</th>\n",
       "      <th>Intent</th>\n",
       "      <th>Amount</th>\n",
       "      <th>Rate</th>\n",
       "      <th>Status</th>\n",
       "      <th>Percent_income</th>\n",
       "      <th>Default</th>\n",
       "      <th>Cred_length</th>\n",
       "    </tr>\n",
       "  </thead>\n",
       "  <tbody>\n",
       "    <tr>\n",
       "      <th>650</th>\n",
       "      <td>649</td>\n",
       "      <td>23</td>\n",
       "      <td>58800</td>\n",
       "      <td>RENT</td>\n",
       "      <td>7.0</td>\n",
       "      <td>DEBTCONSOLIDATION</td>\n",
       "      <td>20000</td>\n",
       "      <td>7.66</td>\n",
       "      <td>1</td>\n",
       "      <td>0.34</td>\n",
       "      <td>N</td>\n",
       "      <td>3</td>\n",
       "    </tr>\n",
       "    <tr>\n",
       "      <th>651</th>\n",
       "      <td>649</td>\n",
       "      <td>23</td>\n",
       "      <td>58800</td>\n",
       "      <td>RENT</td>\n",
       "      <td>7.0</td>\n",
       "      <td>DEBTCONSOLIDATION</td>\n",
       "      <td>20000</td>\n",
       "      <td>7.66</td>\n",
       "      <td>1</td>\n",
       "      <td>0.34</td>\n",
       "      <td>N</td>\n",
       "      <td>3</td>\n",
       "    </tr>\n",
       "  </tbody>\n",
       "</table>\n",
       "</div>"
      ],
      "text/plain": [
       "      Id  Age  Income  Home  Emp_length             Intent  Amount  Rate  \\\n",
       "650  649   23   58800  RENT         7.0  DEBTCONSOLIDATION   20000  7.66   \n",
       "651  649   23   58800  RENT         7.0  DEBTCONSOLIDATION   20000  7.66   \n",
       "\n",
       "     Status  Percent_income Default  Cred_length  \n",
       "650       1            0.34       N            3  \n",
       "651       1            0.34       N            3  "
      ]
     },
     "execution_count": 388,
     "metadata": {},
     "output_type": "execute_result"
    }
   ],
   "source": [
    "df[df.duplicated()]"
   ]
  },
  {
   "cell_type": "markdown",
   "id": "a8a06244-e992-474e-9412-a1f1cf6eae33",
   "metadata": {},
   "source": [
    "В результате применения логической индексации к исходному датасету были найдены два явных дубликата. Чтобы избавиться от таких дубликатов используется метод drop_duplicates() , который удаляет строки вместе с индексами."
   ]
  },
  {
   "cell_type": "code",
   "execution_count": 391,
   "id": "cc96db34-cce4-4853-bc5c-ccb629fc703a",
   "metadata": {
    "scrolled": true
   },
   "outputs": [
    {
     "data": {
      "text/html": [
       "<div>\n",
       "<style scoped>\n",
       "    .dataframe tbody tr th:only-of-type {\n",
       "        vertical-align: middle;\n",
       "    }\n",
       "\n",
       "    .dataframe tbody tr th {\n",
       "        vertical-align: top;\n",
       "    }\n",
       "\n",
       "    .dataframe thead th {\n",
       "        text-align: right;\n",
       "    }\n",
       "</style>\n",
       "<table border=\"1\" class=\"dataframe\">\n",
       "  <thead>\n",
       "    <tr style=\"text-align: right;\">\n",
       "      <th></th>\n",
       "      <th>Id</th>\n",
       "      <th>Age</th>\n",
       "      <th>Income</th>\n",
       "      <th>Home</th>\n",
       "      <th>Emp_length</th>\n",
       "      <th>Intent</th>\n",
       "      <th>Amount</th>\n",
       "      <th>Rate</th>\n",
       "      <th>Status</th>\n",
       "      <th>Percent_income</th>\n",
       "      <th>Default</th>\n",
       "      <th>Cred_length</th>\n",
       "    </tr>\n",
       "  </thead>\n",
       "  <tbody>\n",
       "  </tbody>\n",
       "</table>\n",
       "</div>"
      ],
      "text/plain": [
       "Empty DataFrame\n",
       "Columns: [Id, Age, Income, Home, Emp_length, Intent, Amount, Rate, Status, Percent_income, Default, Cred_length]\n",
       "Index: []"
      ]
     },
     "execution_count": 391,
     "metadata": {},
     "output_type": "execute_result"
    }
   ],
   "source": [
    "df.drop_duplicates(inplace=True)\n",
    "df[df.duplicated()]"
   ]
  },
  {
   "cell_type": "markdown",
   "id": "9037f936-6dfc-464c-acba-69947b95a475",
   "metadata": {},
   "source": [
    "## Задание 1 Группировка - статус домовладения (home) по количеству дефолтов (default). "
   ]
  },
  {
   "cell_type": "code",
   "execution_count": 394,
   "id": "4c9ca22e-f29a-4cc2-b92d-292066231b4b",
   "metadata": {
    "scrolled": true
   },
   "outputs": [
    {
     "data": {
      "text/plain": [
       "Home      Default\n",
       "MORTGAGE  N          106\n",
       "          Y           29\n",
       "OTHER     Y            2\n",
       "OWN       N           85\n",
       "          Y           13\n",
       "RENET     N            1\n",
       "RENT      N          302\n",
       "          Y          106\n",
       "          No           3\n",
       "Name: count, dtype: int64"
      ]
     },
     "execution_count": 394,
     "metadata": {},
     "output_type": "execute_result"
    }
   ],
   "source": [
    "df.groupby('Home')['Default'].value_counts()"
   ]
  },
  {
   "cell_type": "markdown",
   "id": "fb87caaa-89fe-4c35-bfeb-6f3d6db79486",
   "metadata": {},
   "source": [
    "В результате выполнения групировки были найдены неявные дубликаты, а именно: No и N в признаке Defalut, что означает одно и то же, а также в признаке Home: RENET и RENT. С помощью метода unique было проверено наличие неявных дубликатов в обоих признаках."
   ]
  },
  {
   "cell_type": "code",
   "execution_count": 397,
   "id": "485e13d7-3008-4711-a28b-87c4b9e20823",
   "metadata": {
    "scrolled": true
   },
   "outputs": [
    {
     "data": {
      "text/plain": [
       "array(['Y', 'N', 'No'], dtype=object)"
      ]
     },
     "execution_count": 397,
     "metadata": {},
     "output_type": "execute_result"
    }
   ],
   "source": [
    "df['Default'].unique()"
   ]
  },
  {
   "cell_type": "markdown",
   "id": "346a0f93-25e6-4cfc-b35c-dd47b5a85a0c",
   "metadata": {},
   "source": [
    "Наличие неявных дубликатов подтвердилось. Необходимо заменить на корректные значение."
   ]
  },
  {
   "cell_type": "code",
   "execution_count": 400,
   "id": "f80f7e58-53c6-4f8d-a03e-2742f0b38b9e",
   "metadata": {
    "scrolled": true
   },
   "outputs": [
    {
     "data": {
      "text/plain": [
       "array(['Y', 'N'], dtype=object)"
      ]
     },
     "execution_count": 400,
     "metadata": {},
     "output_type": "execute_result"
    }
   ],
   "source": [
    "df['Default'] = df['Default'].replace({'No':'N'})\n",
    "df['Default'].unique()"
   ]
  },
  {
   "cell_type": "markdown",
   "id": "7fa4348e-7686-4994-b734-8a1f4b66f252",
   "metadata": {},
   "source": [
    "Аналогично проверим признак Home на наличие неявных дубликатов."
   ]
  },
  {
   "cell_type": "code",
   "execution_count": 403,
   "id": "51f09474-47ba-48cb-9155-3eafa4ae09b6",
   "metadata": {
    "scrolled": true
   },
   "outputs": [
    {
     "data": {
      "text/plain": [
       "array(['RENT', 'OWN', 'MORTGAGE', 'RENET', 'OTHER'], dtype=object)"
      ]
     },
     "execution_count": 403,
     "metadata": {},
     "output_type": "execute_result"
    }
   ],
   "source": [
    "df['Home'].unique()"
   ]
  },
  {
   "cell_type": "markdown",
   "id": "430d4a46-67aa-4ea6-84e5-524a55fbcb43",
   "metadata": {},
   "source": [
    "Заменим дубликаты на корректные значения."
   ]
  },
  {
   "cell_type": "code",
   "execution_count": 406,
   "id": "ba5276b5-b596-4f97-b9a1-a8bbfa190c4d",
   "metadata": {
    "scrolled": true
   },
   "outputs": [
    {
     "data": {
      "text/plain": [
       "array(['RENT', 'OWN', 'MORTGAGE', 'OTHER'], dtype=object)"
      ]
     },
     "execution_count": 406,
     "metadata": {},
     "output_type": "execute_result"
    }
   ],
   "source": [
    "df['Home'] = df['Home'].replace({'RENET': 'RENT'})\n",
    "df['Home'].unique()"
   ]
  },
  {
   "cell_type": "markdown",
   "id": "d8d1266d-4c20-45a0-8773-3c96414d3fc1",
   "metadata": {},
   "source": [
    "В итоге получается корректная группировка - статус домовладения (home) по количеству дефолтов (default)."
   ]
  },
  {
   "cell_type": "code",
   "execution_count": 409,
   "id": "841e346a-9dd5-47ee-aa56-b2c7b89955b9",
   "metadata": {
    "scrolled": true
   },
   "outputs": [
    {
     "data": {
      "text/plain": [
       "Home      Default\n",
       "MORTGAGE  N          106\n",
       "          Y           29\n",
       "OTHER     Y            2\n",
       "OWN       N           85\n",
       "          Y           13\n",
       "RENT      N          306\n",
       "          Y          106\n",
       "Name: count, dtype: int64"
      ]
     },
     "execution_count": 409,
     "metadata": {},
     "output_type": "execute_result"
    }
   ],
   "source": [
    "df.groupby('Home')['Default'].value_counts()"
   ]
  },
  {
   "cell_type": "markdown",
   "id": "88888479-940a-4d81-b068-17f836f8ee7d",
   "metadata": {},
   "source": [
    "## Задание 2 Группировка - статус домовладения (home) по количеству дефолтов (default). Создать датафрейм. Переименовать столбец с количеством в “сountˮ. Отсортировать по убыванию столбца “countˮ."
   ]
  },
  {
   "cell_type": "code",
   "execution_count": 412,
   "id": "6d2aadf8-d45a-4880-86f6-cae5ae4c6d2c",
   "metadata": {},
   "outputs": [
    {
     "data": {
      "text/html": [
       "<div>\n",
       "<style scoped>\n",
       "    .dataframe tbody tr th:only-of-type {\n",
       "        vertical-align: middle;\n",
       "    }\n",
       "\n",
       "    .dataframe tbody tr th {\n",
       "        vertical-align: top;\n",
       "    }\n",
       "\n",
       "    .dataframe thead th {\n",
       "        text-align: right;\n",
       "    }\n",
       "</style>\n",
       "<table border=\"1\" class=\"dataframe\">\n",
       "  <thead>\n",
       "    <tr style=\"text-align: right;\">\n",
       "      <th></th>\n",
       "      <th>Default</th>\n",
       "    </tr>\n",
       "    <tr>\n",
       "      <th>Home</th>\n",
       "      <th></th>\n",
       "    </tr>\n",
       "  </thead>\n",
       "  <tbody>\n",
       "    <tr>\n",
       "      <th>MORTGAGE</th>\n",
       "      <td>135</td>\n",
       "    </tr>\n",
       "    <tr>\n",
       "      <th>OTHER</th>\n",
       "      <td>2</td>\n",
       "    </tr>\n",
       "    <tr>\n",
       "      <th>OWN</th>\n",
       "      <td>98</td>\n",
       "    </tr>\n",
       "    <tr>\n",
       "      <th>RENT</th>\n",
       "      <td>412</td>\n",
       "    </tr>\n",
       "  </tbody>\n",
       "</table>\n",
       "</div>"
      ],
      "text/plain": [
       "          Default\n",
       "Home             \n",
       "MORTGAGE      135\n",
       "OTHER           2\n",
       "OWN            98\n",
       "RENT          412"
      ]
     },
     "execution_count": 412,
     "metadata": {},
     "output_type": "execute_result"
    }
   ],
   "source": [
    "second_task_df = pd.DataFrame(df.groupby(by = 'Home')['Default'].count())\n",
    "second_task_df"
   ]
  },
  {
   "cell_type": "markdown",
   "id": "f6d17313-d57e-4813-b6ac-f6b2b9708d89",
   "metadata": {},
   "source": [
    "Для преобразования полученной группировки в формат датафрейма был использован объект библиотеки pandas: pd.DataFrame."
   ]
  },
  {
   "cell_type": "code",
   "execution_count": 415,
   "id": "14e0cb98-5166-4821-a1e3-a2b305fd338a",
   "metadata": {},
   "outputs": [
    {
     "data": {
      "text/html": [
       "<div>\n",
       "<style scoped>\n",
       "    .dataframe tbody tr th:only-of-type {\n",
       "        vertical-align: middle;\n",
       "    }\n",
       "\n",
       "    .dataframe tbody tr th {\n",
       "        vertical-align: top;\n",
       "    }\n",
       "\n",
       "    .dataframe thead th {\n",
       "        text-align: right;\n",
       "    }\n",
       "</style>\n",
       "<table border=\"1\" class=\"dataframe\">\n",
       "  <thead>\n",
       "    <tr style=\"text-align: right;\">\n",
       "      <th></th>\n",
       "      <th>count</th>\n",
       "    </tr>\n",
       "    <tr>\n",
       "      <th>Home</th>\n",
       "      <th></th>\n",
       "    </tr>\n",
       "  </thead>\n",
       "  <tbody>\n",
       "    <tr>\n",
       "      <th>MORTGAGE</th>\n",
       "      <td>135</td>\n",
       "    </tr>\n",
       "    <tr>\n",
       "      <th>OTHER</th>\n",
       "      <td>2</td>\n",
       "    </tr>\n",
       "    <tr>\n",
       "      <th>OWN</th>\n",
       "      <td>98</td>\n",
       "    </tr>\n",
       "    <tr>\n",
       "      <th>RENT</th>\n",
       "      <td>412</td>\n",
       "    </tr>\n",
       "  </tbody>\n",
       "</table>\n",
       "</div>"
      ],
      "text/plain": [
       "          count\n",
       "Home           \n",
       "MORTGAGE    135\n",
       "OTHER         2\n",
       "OWN          98\n",
       "RENT        412"
      ]
     },
     "execution_count": 415,
     "metadata": {},
     "output_type": "execute_result"
    }
   ],
   "source": [
    "second_task_df = second_task_df.rename(columns = {'Default': 'count'})\n",
    "second_task_df"
   ]
  },
  {
   "cell_type": "markdown",
   "id": "244b32a0-dec3-426e-a520-de43d79bf776",
   "metadata": {},
   "source": [
    "Для переименования столбца, был использован метод pandas: rename, с указанием в параметрах названия новой колонки в формате словаря."
   ]
  },
  {
   "cell_type": "code",
   "execution_count": 418,
   "id": "7ce18130-be7c-484d-a3f7-e7517e547f10",
   "metadata": {
    "scrolled": true
   },
   "outputs": [
    {
     "data": {
      "text/html": [
       "<div>\n",
       "<style scoped>\n",
       "    .dataframe tbody tr th:only-of-type {\n",
       "        vertical-align: middle;\n",
       "    }\n",
       "\n",
       "    .dataframe tbody tr th {\n",
       "        vertical-align: top;\n",
       "    }\n",
       "\n",
       "    .dataframe thead th {\n",
       "        text-align: right;\n",
       "    }\n",
       "</style>\n",
       "<table border=\"1\" class=\"dataframe\">\n",
       "  <thead>\n",
       "    <tr style=\"text-align: right;\">\n",
       "      <th></th>\n",
       "      <th>count</th>\n",
       "    </tr>\n",
       "    <tr>\n",
       "      <th>Home</th>\n",
       "      <th></th>\n",
       "    </tr>\n",
       "  </thead>\n",
       "  <tbody>\n",
       "    <tr>\n",
       "      <th>RENT</th>\n",
       "      <td>412</td>\n",
       "    </tr>\n",
       "    <tr>\n",
       "      <th>MORTGAGE</th>\n",
       "      <td>135</td>\n",
       "    </tr>\n",
       "    <tr>\n",
       "      <th>OWN</th>\n",
       "      <td>98</td>\n",
       "    </tr>\n",
       "    <tr>\n",
       "      <th>OTHER</th>\n",
       "      <td>2</td>\n",
       "    </tr>\n",
       "  </tbody>\n",
       "</table>\n",
       "</div>"
      ],
      "text/plain": [
       "          count\n",
       "Home           \n",
       "RENT        412\n",
       "MORTGAGE    135\n",
       "OWN          98\n",
       "OTHER         2"
      ]
     },
     "execution_count": 418,
     "metadata": {},
     "output_type": "execute_result"
    }
   ],
   "source": [
    "second_task_df.sort_values(by = 'count', ascending = False) "
   ]
  },
  {
   "cell_type": "markdown",
   "id": "2d28dabd-5fea-4b1c-9de0-e5472166e14a",
   "metadata": {},
   "source": [
    "В результате применения метода sort_values с указанием в параметрах столбца (by), по которому будет производится сортировка и вида сортировки (ascending = False) - в порядке убывания, значения датафрейма были отсортированы по убыванию столбца \"count\"."
   ]
  },
  {
   "cell_type": "markdown",
   "id": "fdfe1755-8802-4329-86c8-f7776234bc99",
   "metadata": {},
   "source": [
    "## Задание 3 Сводная таблица (pivot_table) - средняя сумма кредита amount для каждой цели кредита. Отсортировать по убыванию. Округлить до трёх знаков."
   ]
  },
  {
   "cell_type": "markdown",
   "id": "6def30d7-4300-4e32-9387-043df545824c",
   "metadata": {},
   "source": [
    "Для выполнения третьего задания была создана сводная таблица (pivot_table) из исходного датасета. В параметрах сводной таблицы был указан  index – столбец или столбцы, по которым группируются данные, values – значения, по которым сводная таблица будет создана (в данном случае, сумма кредита) и aggfunc – функция, применяемая к значениям (в данном случае среднее значение)."
   ]
  },
  {
   "cell_type": "code",
   "execution_count": 423,
   "id": "44dccdbe-2f15-419f-8b5a-3c026acf4c6e",
   "metadata": {},
   "outputs": [
    {
     "data": {
      "text/html": [
       "<div>\n",
       "<style scoped>\n",
       "    .dataframe tbody tr th:only-of-type {\n",
       "        vertical-align: middle;\n",
       "    }\n",
       "\n",
       "    .dataframe tbody tr th {\n",
       "        vertical-align: top;\n",
       "    }\n",
       "\n",
       "    .dataframe thead th {\n",
       "        text-align: right;\n",
       "    }\n",
       "</style>\n",
       "<table border=\"1\" class=\"dataframe\">\n",
       "  <thead>\n",
       "    <tr style=\"text-align: right;\">\n",
       "      <th></th>\n",
       "      <th>Amount</th>\n",
       "    </tr>\n",
       "    <tr>\n",
       "      <th>Intent</th>\n",
       "      <th></th>\n",
       "    </tr>\n",
       "  </thead>\n",
       "  <tbody>\n",
       "    <tr>\n",
       "      <th>DEBTCONSOLIDATION</th>\n",
       "      <td>19578.186275</td>\n",
       "    </tr>\n",
       "    <tr>\n",
       "      <th>EDUCATION</th>\n",
       "      <td>19242.832168</td>\n",
       "    </tr>\n",
       "    <tr>\n",
       "      <th>HOMEIMPROVEMENT</th>\n",
       "      <td>17884.558824</td>\n",
       "    </tr>\n",
       "    <tr>\n",
       "      <th>MEDICAL</th>\n",
       "      <td>18732.242991</td>\n",
       "    </tr>\n",
       "    <tr>\n",
       "      <th>PERSONAL</th>\n",
       "      <td>19350.675676</td>\n",
       "    </tr>\n",
       "    <tr>\n",
       "      <th>VENTURE</th>\n",
       "      <td>17844.181034</td>\n",
       "    </tr>\n",
       "  </tbody>\n",
       "</table>\n",
       "</div>"
      ],
      "text/plain": [
       "                         Amount\n",
       "Intent                         \n",
       "DEBTCONSOLIDATION  19578.186275\n",
       "EDUCATION          19242.832168\n",
       "HOMEIMPROVEMENT    17884.558824\n",
       "MEDICAL            18732.242991\n",
       "PERSONAL           19350.675676\n",
       "VENTURE            17844.181034"
      ]
     },
     "execution_count": 423,
     "metadata": {},
     "output_type": "execute_result"
    }
   ],
   "source": [
    "third_task_df = df.pivot_table(index=['Intent'], values = 'Amount', aggfunc='mean')\n",
    "third_task_df"
   ]
  },
  {
   "cell_type": "markdown",
   "id": "f284f06b-fb92-4c28-a058-c6a29b8e99c6",
   "metadata": {},
   "source": [
    "С помощью метода sort_values данные в таблице были отсортированы по убыванию."
   ]
  },
  {
   "cell_type": "code",
   "execution_count": 426,
   "id": "55e3beae-705b-4678-8a73-5b2e1b68228f",
   "metadata": {},
   "outputs": [
    {
     "data": {
      "text/html": [
       "<div>\n",
       "<style scoped>\n",
       "    .dataframe tbody tr th:only-of-type {\n",
       "        vertical-align: middle;\n",
       "    }\n",
       "\n",
       "    .dataframe tbody tr th {\n",
       "        vertical-align: top;\n",
       "    }\n",
       "\n",
       "    .dataframe thead th {\n",
       "        text-align: right;\n",
       "    }\n",
       "</style>\n",
       "<table border=\"1\" class=\"dataframe\">\n",
       "  <thead>\n",
       "    <tr style=\"text-align: right;\">\n",
       "      <th></th>\n",
       "      <th>Amount</th>\n",
       "    </tr>\n",
       "    <tr>\n",
       "      <th>Intent</th>\n",
       "      <th></th>\n",
       "    </tr>\n",
       "  </thead>\n",
       "  <tbody>\n",
       "    <tr>\n",
       "      <th>DEBTCONSOLIDATION</th>\n",
       "      <td>19578.186275</td>\n",
       "    </tr>\n",
       "    <tr>\n",
       "      <th>PERSONAL</th>\n",
       "      <td>19350.675676</td>\n",
       "    </tr>\n",
       "    <tr>\n",
       "      <th>EDUCATION</th>\n",
       "      <td>19242.832168</td>\n",
       "    </tr>\n",
       "    <tr>\n",
       "      <th>MEDICAL</th>\n",
       "      <td>18732.242991</td>\n",
       "    </tr>\n",
       "    <tr>\n",
       "      <th>HOMEIMPROVEMENT</th>\n",
       "      <td>17884.558824</td>\n",
       "    </tr>\n",
       "    <tr>\n",
       "      <th>VENTURE</th>\n",
       "      <td>17844.181034</td>\n",
       "    </tr>\n",
       "  </tbody>\n",
       "</table>\n",
       "</div>"
      ],
      "text/plain": [
       "                         Amount\n",
       "Intent                         \n",
       "DEBTCONSOLIDATION  19578.186275\n",
       "PERSONAL           19350.675676\n",
       "EDUCATION          19242.832168\n",
       "MEDICAL            18732.242991\n",
       "HOMEIMPROVEMENT    17884.558824\n",
       "VENTURE            17844.181034"
      ]
     },
     "execution_count": 426,
     "metadata": {},
     "output_type": "execute_result"
    }
   ],
   "source": [
    "third_task_df = third_task_df.sort_values(by = 'Amount', ascending=False)\n",
    "third_task_df"
   ]
  },
  {
   "cell_type": "markdown",
   "id": "3d2c6f15-ac10-456e-a554-d7fda0728548",
   "metadata": {},
   "source": [
    "С помощью метода pandas: apply, к значениям, хранящимся в сводной таблице была применена лямбда функция для округления чисел до трех знаков."
   ]
  },
  {
   "cell_type": "code",
   "execution_count": 429,
   "id": "b41cc2e2-f70e-453c-adf3-59adf1895d76",
   "metadata": {},
   "outputs": [],
   "source": [
    "third_task_df['Amount'] = third_task_df['Amount'].apply(lambda x: round(x,3))"
   ]
  },
  {
   "cell_type": "markdown",
   "id": "2f8637f6-b85e-4735-b2c2-346f0223d8e2",
   "metadata": {},
   "source": [
    "Итоговая таблица имеет следующий вид:"
   ]
  },
  {
   "cell_type": "code",
   "execution_count": 432,
   "id": "c917829c-c59b-4566-a976-c2051e68ead9",
   "metadata": {},
   "outputs": [
    {
     "data": {
      "text/html": [
       "<div>\n",
       "<style scoped>\n",
       "    .dataframe tbody tr th:only-of-type {\n",
       "        vertical-align: middle;\n",
       "    }\n",
       "\n",
       "    .dataframe tbody tr th {\n",
       "        vertical-align: top;\n",
       "    }\n",
       "\n",
       "    .dataframe thead th {\n",
       "        text-align: right;\n",
       "    }\n",
       "</style>\n",
       "<table border=\"1\" class=\"dataframe\">\n",
       "  <thead>\n",
       "    <tr style=\"text-align: right;\">\n",
       "      <th></th>\n",
       "      <th>Amount</th>\n",
       "    </tr>\n",
       "    <tr>\n",
       "      <th>Intent</th>\n",
       "      <th></th>\n",
       "    </tr>\n",
       "  </thead>\n",
       "  <tbody>\n",
       "    <tr>\n",
       "      <th>DEBTCONSOLIDATION</th>\n",
       "      <td>19578.186</td>\n",
       "    </tr>\n",
       "    <tr>\n",
       "      <th>PERSONAL</th>\n",
       "      <td>19350.676</td>\n",
       "    </tr>\n",
       "    <tr>\n",
       "      <th>EDUCATION</th>\n",
       "      <td>19242.832</td>\n",
       "    </tr>\n",
       "    <tr>\n",
       "      <th>MEDICAL</th>\n",
       "      <td>18732.243</td>\n",
       "    </tr>\n",
       "    <tr>\n",
       "      <th>HOMEIMPROVEMENT</th>\n",
       "      <td>17884.559</td>\n",
       "    </tr>\n",
       "    <tr>\n",
       "      <th>VENTURE</th>\n",
       "      <td>17844.181</td>\n",
       "    </tr>\n",
       "  </tbody>\n",
       "</table>\n",
       "</div>"
      ],
      "text/plain": [
       "                      Amount\n",
       "Intent                      \n",
       "DEBTCONSOLIDATION  19578.186\n",
       "PERSONAL           19350.676\n",
       "EDUCATION          19242.832\n",
       "MEDICAL            18732.243\n",
       "HOMEIMPROVEMENT    17884.559\n",
       "VENTURE            17844.181"
      ]
     },
     "execution_count": 432,
     "metadata": {},
     "output_type": "execute_result"
    }
   ],
   "source": [
    "third_task_df"
   ]
  },
  {
   "cell_type": "markdown",
   "id": "83de17da-cfce-4b9d-b863-374fe34beae7",
   "metadata": {},
   "source": [
    "## Задание 4 Сводная таблица (pivot_table) - средняя сумма кредита amount для каждой цели (intent) - строки и возраста - столбцы . Отсортировать по возрастанию intent. Округлить до двух знаков."
   ]
  },
  {
   "cell_type": "markdown",
   "id": "188ff621-4c4e-4965-bde3-4a1dda8bbb0c",
   "metadata": {},
   "source": [
    "Аналогично третьему заданию, была создана сводная таблица, однако, был добавлен еще один параметр columns, в котором был указан признак \"Age\"."
   ]
  },
  {
   "cell_type": "code",
   "execution_count": 436,
   "id": "f4b1a46e-8826-4386-8eb5-9853fc289064",
   "metadata": {
    "scrolled": true
   },
   "outputs": [
    {
     "data": {
      "text/html": [
       "<div>\n",
       "<style scoped>\n",
       "    .dataframe tbody tr th:only-of-type {\n",
       "        vertical-align: middle;\n",
       "    }\n",
       "\n",
       "    .dataframe tbody tr th {\n",
       "        vertical-align: top;\n",
       "    }\n",
       "\n",
       "    .dataframe thead th {\n",
       "        text-align: right;\n",
       "    }\n",
       "</style>\n",
       "<table border=\"1\" class=\"dataframe\">\n",
       "  <thead>\n",
       "    <tr style=\"text-align: right;\">\n",
       "      <th>Age</th>\n",
       "      <th>21</th>\n",
       "      <th>22</th>\n",
       "      <th>23</th>\n",
       "      <th>24</th>\n",
       "      <th>25</th>\n",
       "      <th>26</th>\n",
       "    </tr>\n",
       "    <tr>\n",
       "      <th>Intent</th>\n",
       "      <th></th>\n",
       "      <th></th>\n",
       "      <th></th>\n",
       "      <th></th>\n",
       "      <th></th>\n",
       "      <th></th>\n",
       "    </tr>\n",
       "  </thead>\n",
       "  <tbody>\n",
       "    <tr>\n",
       "      <th>DEBTCONSOLIDATION</th>\n",
       "      <td>9500.000000</td>\n",
       "      <td>18602.777778</td>\n",
       "      <td>20291.666667</td>\n",
       "      <td>20028.571429</td>\n",
       "      <td>18603.333333</td>\n",
       "      <td>21947.222222</td>\n",
       "    </tr>\n",
       "    <tr>\n",
       "      <th>EDUCATION</th>\n",
       "      <td>12846.153846</td>\n",
       "      <td>18677.343750</td>\n",
       "      <td>20288.281250</td>\n",
       "      <td>21052.380952</td>\n",
       "      <td>19326.041667</td>\n",
       "      <td>20566.666667</td>\n",
       "    </tr>\n",
       "    <tr>\n",
       "      <th>HOMEIMPROVEMENT</th>\n",
       "      <td>4355.000000</td>\n",
       "      <td>10216.666667</td>\n",
       "      <td>4000.000000</td>\n",
       "      <td>19627.678571</td>\n",
       "      <td>21266.666667</td>\n",
       "      <td>20038.461538</td>\n",
       "    </tr>\n",
       "    <tr>\n",
       "      <th>MEDICAL</th>\n",
       "      <td>10700.000000</td>\n",
       "      <td>18073.214286</td>\n",
       "      <td>17968.478261</td>\n",
       "      <td>21119.642857</td>\n",
       "      <td>18114.814815</td>\n",
       "      <td>20410.000000</td>\n",
       "    </tr>\n",
       "    <tr>\n",
       "      <th>PERSONAL</th>\n",
       "      <td>3633.333333</td>\n",
       "      <td>17735.714286</td>\n",
       "      <td>19241.000000</td>\n",
       "      <td>21205.000000</td>\n",
       "      <td>21738.000000</td>\n",
       "      <td>18588.235294</td>\n",
       "    </tr>\n",
       "    <tr>\n",
       "      <th>VENTURE</th>\n",
       "      <td>9407.692308</td>\n",
       "      <td>15515.277778</td>\n",
       "      <td>22810.937500</td>\n",
       "      <td>19406.730769</td>\n",
       "      <td>18360.416667</td>\n",
       "      <td>18850.000000</td>\n",
       "    </tr>\n",
       "  </tbody>\n",
       "</table>\n",
       "</div>"
      ],
      "text/plain": [
       "Age                          21            22            23            24  \\\n",
       "Intent                                                                      \n",
       "DEBTCONSOLIDATION   9500.000000  18602.777778  20291.666667  20028.571429   \n",
       "EDUCATION          12846.153846  18677.343750  20288.281250  21052.380952   \n",
       "HOMEIMPROVEMENT     4355.000000  10216.666667   4000.000000  19627.678571   \n",
       "MEDICAL            10700.000000  18073.214286  17968.478261  21119.642857   \n",
       "PERSONAL            3633.333333  17735.714286  19241.000000  21205.000000   \n",
       "VENTURE             9407.692308  15515.277778  22810.937500  19406.730769   \n",
       "\n",
       "Age                          25            26  \n",
       "Intent                                         \n",
       "DEBTCONSOLIDATION  18603.333333  21947.222222  \n",
       "EDUCATION          19326.041667  20566.666667  \n",
       "HOMEIMPROVEMENT    21266.666667  20038.461538  \n",
       "MEDICAL            18114.814815  20410.000000  \n",
       "PERSONAL           21738.000000  18588.235294  \n",
       "VENTURE            18360.416667  18850.000000  "
      ]
     },
     "execution_count": 436,
     "metadata": {},
     "output_type": "execute_result"
    }
   ],
   "source": [
    "fourth_task_df = df.pivot_table(index = ['Intent'], columns = 'Age', values = 'Amount', aggfunc = 'mean')\n",
    "fourth_task_df"
   ]
  },
  {
   "cell_type": "markdown",
   "id": "6f178724-30de-4b11-b368-a895f895a480",
   "metadata": {},
   "source": [
    "Далее, был применен метод sort_values, с параметром by = 'Intent' и ascending = True, что означает сортировку по возрастанию по полям Intent."
   ]
  },
  {
   "cell_type": "code",
   "execution_count": 439,
   "id": "b59a004b-7f9c-47da-a416-983ef6c1dd4a",
   "metadata": {
    "scrolled": true
   },
   "outputs": [
    {
     "data": {
      "text/html": [
       "<div>\n",
       "<style scoped>\n",
       "    .dataframe tbody tr th:only-of-type {\n",
       "        vertical-align: middle;\n",
       "    }\n",
       "\n",
       "    .dataframe tbody tr th {\n",
       "        vertical-align: top;\n",
       "    }\n",
       "\n",
       "    .dataframe thead th {\n",
       "        text-align: right;\n",
       "    }\n",
       "</style>\n",
       "<table border=\"1\" class=\"dataframe\">\n",
       "  <thead>\n",
       "    <tr style=\"text-align: right;\">\n",
       "      <th>Age</th>\n",
       "      <th>21</th>\n",
       "      <th>22</th>\n",
       "      <th>23</th>\n",
       "      <th>24</th>\n",
       "      <th>25</th>\n",
       "      <th>26</th>\n",
       "    </tr>\n",
       "    <tr>\n",
       "      <th>Intent</th>\n",
       "      <th></th>\n",
       "      <th></th>\n",
       "      <th></th>\n",
       "      <th></th>\n",
       "      <th></th>\n",
       "      <th></th>\n",
       "    </tr>\n",
       "  </thead>\n",
       "  <tbody>\n",
       "    <tr>\n",
       "      <th>DEBTCONSOLIDATION</th>\n",
       "      <td>9500.000000</td>\n",
       "      <td>18602.777778</td>\n",
       "      <td>20291.666667</td>\n",
       "      <td>20028.571429</td>\n",
       "      <td>18603.333333</td>\n",
       "      <td>21947.222222</td>\n",
       "    </tr>\n",
       "    <tr>\n",
       "      <th>EDUCATION</th>\n",
       "      <td>12846.153846</td>\n",
       "      <td>18677.343750</td>\n",
       "      <td>20288.281250</td>\n",
       "      <td>21052.380952</td>\n",
       "      <td>19326.041667</td>\n",
       "      <td>20566.666667</td>\n",
       "    </tr>\n",
       "    <tr>\n",
       "      <th>HOMEIMPROVEMENT</th>\n",
       "      <td>4355.000000</td>\n",
       "      <td>10216.666667</td>\n",
       "      <td>4000.000000</td>\n",
       "      <td>19627.678571</td>\n",
       "      <td>21266.666667</td>\n",
       "      <td>20038.461538</td>\n",
       "    </tr>\n",
       "    <tr>\n",
       "      <th>MEDICAL</th>\n",
       "      <td>10700.000000</td>\n",
       "      <td>18073.214286</td>\n",
       "      <td>17968.478261</td>\n",
       "      <td>21119.642857</td>\n",
       "      <td>18114.814815</td>\n",
       "      <td>20410.000000</td>\n",
       "    </tr>\n",
       "    <tr>\n",
       "      <th>PERSONAL</th>\n",
       "      <td>3633.333333</td>\n",
       "      <td>17735.714286</td>\n",
       "      <td>19241.000000</td>\n",
       "      <td>21205.000000</td>\n",
       "      <td>21738.000000</td>\n",
       "      <td>18588.235294</td>\n",
       "    </tr>\n",
       "    <tr>\n",
       "      <th>VENTURE</th>\n",
       "      <td>9407.692308</td>\n",
       "      <td>15515.277778</td>\n",
       "      <td>22810.937500</td>\n",
       "      <td>19406.730769</td>\n",
       "      <td>18360.416667</td>\n",
       "      <td>18850.000000</td>\n",
       "    </tr>\n",
       "  </tbody>\n",
       "</table>\n",
       "</div>"
      ],
      "text/plain": [
       "Age                          21            22            23            24  \\\n",
       "Intent                                                                      \n",
       "DEBTCONSOLIDATION   9500.000000  18602.777778  20291.666667  20028.571429   \n",
       "EDUCATION          12846.153846  18677.343750  20288.281250  21052.380952   \n",
       "HOMEIMPROVEMENT     4355.000000  10216.666667   4000.000000  19627.678571   \n",
       "MEDICAL            10700.000000  18073.214286  17968.478261  21119.642857   \n",
       "PERSONAL            3633.333333  17735.714286  19241.000000  21205.000000   \n",
       "VENTURE             9407.692308  15515.277778  22810.937500  19406.730769   \n",
       "\n",
       "Age                          25            26  \n",
       "Intent                                         \n",
       "DEBTCONSOLIDATION  18603.333333  21947.222222  \n",
       "EDUCATION          19326.041667  20566.666667  \n",
       "HOMEIMPROVEMENT    21266.666667  20038.461538  \n",
       "MEDICAL            18114.814815  20410.000000  \n",
       "PERSONAL           21738.000000  18588.235294  \n",
       "VENTURE            18360.416667  18850.000000  "
      ]
     },
     "execution_count": 439,
     "metadata": {},
     "output_type": "execute_result"
    }
   ],
   "source": [
    "fourth_task_df = fourth_task_df.sort_values(by = 'Intent', ascending = True)\n",
    "fourth_task_df"
   ]
  },
  {
   "cell_type": "markdown",
   "id": "07fd6671-70f7-45e1-8941-79d79b4a26e9",
   "metadata": {},
   "source": [
    "Далее, был применен метод apply для округления всех чисел до двух знаков."
   ]
  },
  {
   "cell_type": "code",
   "execution_count": 442,
   "id": "d6ec2d96-74c7-4acc-8a43-433381912503",
   "metadata": {},
   "outputs": [],
   "source": [
    "fourth_task_df = fourth_task_df.apply(lambda x: round(x,2))"
   ]
  },
  {
   "cell_type": "markdown",
   "id": "5267991c-8acd-45cd-b7d0-d157ab98bc62",
   "metadata": {},
   "source": [
    "Итоговая таблица имеет следующий вид:"
   ]
  },
  {
   "cell_type": "code",
   "execution_count": 445,
   "id": "a11dc6ff-460f-40e2-9d27-c8fe014db49a",
   "metadata": {},
   "outputs": [
    {
     "data": {
      "text/html": [
       "<div>\n",
       "<style scoped>\n",
       "    .dataframe tbody tr th:only-of-type {\n",
       "        vertical-align: middle;\n",
       "    }\n",
       "\n",
       "    .dataframe tbody tr th {\n",
       "        vertical-align: top;\n",
       "    }\n",
       "\n",
       "    .dataframe thead th {\n",
       "        text-align: right;\n",
       "    }\n",
       "</style>\n",
       "<table border=\"1\" class=\"dataframe\">\n",
       "  <thead>\n",
       "    <tr style=\"text-align: right;\">\n",
       "      <th>Age</th>\n",
       "      <th>21</th>\n",
       "      <th>22</th>\n",
       "      <th>23</th>\n",
       "      <th>24</th>\n",
       "      <th>25</th>\n",
       "      <th>26</th>\n",
       "    </tr>\n",
       "    <tr>\n",
       "      <th>Intent</th>\n",
       "      <th></th>\n",
       "      <th></th>\n",
       "      <th></th>\n",
       "      <th></th>\n",
       "      <th></th>\n",
       "      <th></th>\n",
       "    </tr>\n",
       "  </thead>\n",
       "  <tbody>\n",
       "    <tr>\n",
       "      <th>DEBTCONSOLIDATION</th>\n",
       "      <td>9500.00</td>\n",
       "      <td>18602.78</td>\n",
       "      <td>20291.67</td>\n",
       "      <td>20028.57</td>\n",
       "      <td>18603.33</td>\n",
       "      <td>21947.22</td>\n",
       "    </tr>\n",
       "    <tr>\n",
       "      <th>EDUCATION</th>\n",
       "      <td>12846.15</td>\n",
       "      <td>18677.34</td>\n",
       "      <td>20288.28</td>\n",
       "      <td>21052.38</td>\n",
       "      <td>19326.04</td>\n",
       "      <td>20566.67</td>\n",
       "    </tr>\n",
       "    <tr>\n",
       "      <th>HOMEIMPROVEMENT</th>\n",
       "      <td>4355.00</td>\n",
       "      <td>10216.67</td>\n",
       "      <td>4000.00</td>\n",
       "      <td>19627.68</td>\n",
       "      <td>21266.67</td>\n",
       "      <td>20038.46</td>\n",
       "    </tr>\n",
       "    <tr>\n",
       "      <th>MEDICAL</th>\n",
       "      <td>10700.00</td>\n",
       "      <td>18073.21</td>\n",
       "      <td>17968.48</td>\n",
       "      <td>21119.64</td>\n",
       "      <td>18114.81</td>\n",
       "      <td>20410.00</td>\n",
       "    </tr>\n",
       "    <tr>\n",
       "      <th>PERSONAL</th>\n",
       "      <td>3633.33</td>\n",
       "      <td>17735.71</td>\n",
       "      <td>19241.00</td>\n",
       "      <td>21205.00</td>\n",
       "      <td>21738.00</td>\n",
       "      <td>18588.24</td>\n",
       "    </tr>\n",
       "    <tr>\n",
       "      <th>VENTURE</th>\n",
       "      <td>9407.69</td>\n",
       "      <td>15515.28</td>\n",
       "      <td>22810.94</td>\n",
       "      <td>19406.73</td>\n",
       "      <td>18360.42</td>\n",
       "      <td>18850.00</td>\n",
       "    </tr>\n",
       "  </tbody>\n",
       "</table>\n",
       "</div>"
      ],
      "text/plain": [
       "Age                      21        22        23        24        25        26\n",
       "Intent                                                                       \n",
       "DEBTCONSOLIDATION   9500.00  18602.78  20291.67  20028.57  18603.33  21947.22\n",
       "EDUCATION          12846.15  18677.34  20288.28  21052.38  19326.04  20566.67\n",
       "HOMEIMPROVEMENT     4355.00  10216.67   4000.00  19627.68  21266.67  20038.46\n",
       "MEDICAL            10700.00  18073.21  17968.48  21119.64  18114.81  20410.00\n",
       "PERSONAL            3633.33  17735.71  19241.00  21205.00  21738.00  18588.24\n",
       "VENTURE             9407.69  15515.28  22810.94  19406.73  18360.42  18850.00"
      ]
     },
     "execution_count": 445,
     "metadata": {},
     "output_type": "execute_result"
    }
   ],
   "source": [
    "fourth_task_df"
   ]
  },
  {
   "cell_type": "code",
   "execution_count": 447,
   "id": "b3c221d7-de96-4d1a-b128-8d53e49d93a4",
   "metadata": {},
   "outputs": [
    {
     "data": {
      "text/plain": [
       "Age\n",
       "21     50442.17\n",
       "22     98820.99\n",
       "23    104600.37\n",
       "24    122440.00\n",
       "25    117409.27\n",
       "26    120400.59\n",
       "dtype: float64"
      ]
     },
     "execution_count": 447,
     "metadata": {},
     "output_type": "execute_result"
    }
   ],
   "source": [
    "fourth_task_df.sum()"
   ]
  },
  {
   "cell_type": "markdown",
   "id": "6e546967-063e-4dbb-ae37-fdd2b89c49ed",
   "metadata": {},
   "source": [
    "## Вывод\n",
    "В результате выполнения лабораторной работы была осуществлена предварительная обработа данных csv-файла, выявлены и устранены проблемы в этих данных. Были изучены такие инструменты работы с данными, как библиотека pandas, её возможности и функционал, в частности: загрузка и отображение данных csv-файла, оценка данных при помощи метода info, изменение типов данных, описание числовых столбцов при помощи метода describe, сортировка значений при помощи метода sort_values, проверка значений на пустые при помощи метода isnull, заполнение пропусков при помощи метода fillna, поиск дубликатов при помощи методов duplicated и unique, группировка данных при помощи метода groupby, создание сводных таблиц при помощи метода pivot_table.\n",
    "\n",
    "Касательно выводов относительно изученных данных, можно утверждать, что: \n",
    "- Наименьшее отношение дефолтов наблюдается у тех, у кого собственность в аренде (заявителей с отсутствием долгов в 3 раза больше, чем с их наличием);\n",
    "- Наибольшее количество заявителей имеет собственность в аренде (414 человека);\n",
    "- Наибольшая средняя сумма кредитов требуется на погашение долгов (19586.298);\n",
    "- С повышением возраста увеличивается средняя сумма кредитов (наибольшая сумма кредитов у заявителей 26 лет и составляет 120400.59)."
   ]
  }
 ],
 "metadata": {
  "kernelspec": {
   "display_name": "Python 3 (ipykernel)",
   "language": "python",
   "name": "python3"
  },
  "language_info": {
   "codemirror_mode": {
    "name": "ipython",
    "version": 3
   },
   "file_extension": ".py",
   "mimetype": "text/x-python",
   "name": "python",
   "nbconvert_exporter": "python",
   "pygments_lexer": "ipython3",
   "version": "3.12.4"
  }
 },
 "nbformat": 4,
 "nbformat_minor": 5
}
